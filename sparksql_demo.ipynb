{
 "cells": [
  {
   "cell_type": "code",
   "execution_count": 1,
   "metadata": {},
   "outputs": [],
   "source": [
    "from pyspark.sql import SparkSession"
   ]
  },
  {
   "cell_type": "code",
   "execution_count": 17,
   "metadata": {},
   "outputs": [],
   "source": [
    "from pyspark.sql.functions import col, to_date, when, length, year"
   ]
  },
  {
   "cell_type": "markdown",
   "metadata": {},
   "source": [
    "## Constants"
   ]
  },
  {
   "cell_type": "code",
   "execution_count": 2,
   "metadata": {},
   "outputs": [],
   "source": [
    "data_path = \"/app/data/binhluan.csv\""
   ]
  },
  {
   "cell_type": "markdown",
   "metadata": {},
   "source": [
    "## Init spark session"
   ]
  },
  {
   "cell_type": "code",
   "execution_count": 3,
   "metadata": {},
   "outputs": [
    {
     "name": "stderr",
     "output_type": "stream",
     "text": [
      "Setting default log level to \"WARN\".\n",
      "To adjust logging level use sc.setLogLevel(newLevel). For SparkR, use setLogLevel(newLevel).\n",
      "24/08/17 17:35:49 WARN NativeCodeLoader: Unable to load native-hadoop library for your platform... using builtin-java classes where applicable\n"
     ]
    }
   ],
   "source": [
    "spark = (\n",
    "    SparkSession.builder.appName(\"PySpark Demo\")\n",
    "    .master(\"spark://spark-master:7077\")\n",
    "    .getOrCreate()\n",
    ")"
   ]
  },
  {
   "cell_type": "markdown",
   "metadata": {},
   "source": [
    "## Demo"
   ]
  },
  {
   "cell_type": "markdown",
   "metadata": {},
   "source": [
    "#### Load csv"
   ]
  },
  {
   "cell_type": "code",
   "execution_count": 8,
   "metadata": {},
   "outputs": [],
   "source": [
    "comments = spark.read.option(\"header\", \"true\").csv(data_path)"
   ]
  },
  {
   "cell_type": "code",
   "execution_count": 9,
   "metadata": {},
   "outputs": [
    {
     "name": "stderr",
     "output_type": "stream",
     "text": [
      "[Stage 3:>                                                          (0 + 1) / 1]\r"
     ]
    },
    {
     "name": "stdout",
     "output_type": "stream",
     "text": [
      "+--------------------+--------------------+------------+--------------+------------+--------------------+---------------+\n",
      "|                 _c0|                User|comment_date|comment_Rating|Comment_Like|      Comment_Review|Comment_Picture|\n",
      "+--------------------+--------------------+------------+--------------+------------+--------------------+---------------+\n",
      "|                   1|Hoa Thanh Trung (...|   7/18/2012|             5|           0|                NULL|             no|\n",
      "|                   2|    Văn Thắng Nguyễn|   11/7/2012|             5|           0|                NULL|             no|\n",
      "|                   4|      Trung Trần Mẫn|  11/20/2012|             5|           0|                NULL|             no|\n",
      "|                  19|        Trần- Nguyễn|   4/20/2014|             5|           0|                NULL|             no|\n",
      "|                  21|             Minh Le|   5/12/2014|             5|           0|                NULL|             no|\n",
      "|                  22|           Hien Tran|    6/6/2014|             5|           3|One of the cleane...|           NULL|\n",
      "|(Bản dịch tự động...|                NULL|        NULL|          NULL|        NULL|                NULL|           NULL|\n",
      "|Một trong những b...|         bác sĩ Nhân|  bác sĩ Hải|  bác sĩ Thiện|  bác sĩ Nam| bác sĩ Quốc và n...|             no|\n",
      "|                  24|         Tiger White|    6/8/2014|             5|           0|                NULL|             no|\n",
      "|                  28|       Bich Ngoc Bui|   7/21/2014|             5|           0|Neu buom co chua ...|             no|\n",
      "|                  30|        Jung Woo Han|   8/26/2014|             5|           0|                NULL|             no|\n",
      "|                  31|             Ty Tran|   11/6/2014|             5|           0|                NULL|             no|\n",
      "|                  32| Chhim Phan Sochetra|   11/9/2014|             5|           0|                NULL|             no|\n",
      "|                  34|        nguyen thang|  12/16/2014|             5|           0|                NULL|             no|\n",
      "|                  35|    Tuấn nguyễn quốc|  12/29/2014|             5|           0|Bảo vệ Bệnh viện ...|             no|\n",
      "|                  36|           Hoang Hai|    1/1/2015|             5|           0|                NULL|             no|\n",
      "|                  38|  Kynghesat Quỳnh An|   1/23/2015|             5|           0|bệnh viện chuẩn n...|             no|\n",
      "|                  40|             Potassy|    2/4/2015|             5|           0|                NULL|             no|\n",
      "|                  41|            Luc Tran|   3/13/2015|             5|           0|                NULL|             no|\n",
      "|                  42|     Quoc Duy Nguyen|   3/17/2015|             5|           0|                NULL|             no|\n",
      "+--------------------+--------------------+------------+--------------+------------+--------------------+---------------+\n",
      "only showing top 20 rows\n",
      "\n"
     ]
    },
    {
     "name": "stderr",
     "output_type": "stream",
     "text": [
      "                                                                                \r"
     ]
    }
   ],
   "source": [
    "comments.show()"
   ]
  },
  {
   "cell_type": "markdown",
   "metadata": {},
   "source": [
    "#### DML"
   ]
  },
  {
   "cell_type": "code",
   "execution_count": 11,
   "metadata": {},
   "outputs": [],
   "source": [
    "comments.createOrReplaceTempView(\"comments\")"
   ]
  },
  {
   "cell_type": "code",
   "execution_count": 13,
   "metadata": {},
   "outputs": [
    {
     "name": "stdout",
     "output_type": "stream",
     "text": [
      "+-------------------------+--------------+\n",
      "|User                     |comment_Rating|\n",
      "+-------------------------+--------------+\n",
      "|Hoa Thanh Trung (P. CNTT)|5             |\n",
      "|Văn Thắng Nguyễn         |5             |\n",
      "|Trung Trần Mẫn           |5             |\n",
      "|Trần- Nguyễn             |5             |\n",
      "|Minh Le                  |5             |\n",
      "|Hien Tran                |5             |\n",
      "|Tiger White              |5             |\n",
      "|Bich Ngoc Bui            |5             |\n",
      "|Jung Woo Han             |5             |\n",
      "|Ty Tran                  |5             |\n",
      "|Chhim Phan Sochetra      |5             |\n",
      "|nguyen thang             |5             |\n",
      "|Tuấn nguyễn quốc         |5             |\n",
      "|Hoang Hai                |5             |\n",
      "|Kynghesat Quỳnh An       |5             |\n",
      "|Potassy                  |5             |\n",
      "|Luc Tran                 |5             |\n",
      "|Quoc Duy Nguyen          |5             |\n",
      "|Di Phuong                |5             |\n",
      "|chi sang                 |5             |\n",
      "+-------------------------+--------------+\n",
      "only showing top 20 rows\n",
      "\n"
     ]
    }
   ],
   "source": [
    "high_ratings_df = spark.sql(\"SELECT User, comment_Rating FROM comments WHERE comment_Rating = 5\")\n",
    "high_ratings_df.show(truncate=False)"
   ]
  },
  {
   "cell_type": "code",
   "execution_count": 14,
   "metadata": {},
   "outputs": [
    {
     "name": "stderr",
     "output_type": "stream",
     "text": [
      "[Stage 6:>                                                          (0 + 1) / 1]\r"
     ]
    },
    {
     "name": "stdout",
     "output_type": "stream",
     "text": [
      "+------------------------------------------------+-------------+\n",
      "|User                                            |comment_count|\n",
      "+------------------------------------------------+-------------+\n",
      "|Duy Lâm Đoàn                                    |1            |\n",
      "|Thanh Lê                                        |1            |\n",
      "|THUỐC LÀO TIẾN HƯNG                             |1            |\n",
      "|Le Tan Vo B1911435                              |1            |\n",
      "| đầy đủ                                         |1            |\n",
      "|Phuc Nhan Pham                                  |1            |\n",
      "|Sôpha David                                     |1            |\n",
      "|Kiên Henry                                      |1            |\n",
      "|lee歡                                           |1            |\n",
      "|Trần Minh Công                                  |1            |\n",
      "|Tuan Au Nguyen Quoc                             |1            |\n",
      "|Hạc Nguyễn                                      |1            |\n",
      "|Bao Nguyen Gia                                  |1            |\n",
      "|Thiện Nhật                                      |1            |\n",
      "|salon Soock                                     |1            |\n",
      "|Tfarm                                           |1            |\n",
      "| các bạn có thể tải app về và đặt lịch hẹn trứic|1            |\n",
      "|Duy Tân Nguyễn                                  |1            |\n",
      "| chờ hết giờ                                    |1            |\n",
      "|Mi Mi                                           |1            |\n",
      "+------------------------------------------------+-------------+\n",
      "only showing top 20 rows\n",
      "\n"
     ]
    },
    {
     "name": "stderr",
     "output_type": "stream",
     "text": [
      "                                                                                \r"
     ]
    }
   ],
   "source": [
    "comment_counts_df = spark.sql(\"SELECT User, COUNT(*) as comment_count FROM comments GROUP BY User\")\n",
    "comment_counts_df.show(truncate=False)"
   ]
  },
  {
   "cell_type": "code",
   "execution_count": 16,
   "metadata": {},
   "outputs": [
    {
     "name": "stdout",
     "output_type": "stream",
     "text": [
      "+------------------------+-----------------------------------------------------------------------------------------------------------------------------------------------------------------------------------------------------------------------------------------------------------------------------------------------------------------------------------------------------------+\n",
      "|User                    |Comment_Review                                                                                                                                                                                                                                                                                                                                             |\n",
      "+------------------------+-----------------------------------------------------------------------------------------------------------------------------------------------------------------------------------------------------------------------------------------------------------------------------------------------------------------------------------------------------------+\n",
      "|Hien Tran               |One of the cleanest and most advanced hospitals in Ho Chi Minh City! Foreigners should come here if you need to go to a hospital. It is similar to hospitals in America from my experience as a Vietnamese American. My surgeons, Dr. Nhan, Dr. Hai, Dr. Thien, Dr. Nam, and Dr. Quoc and many others have been extremely caring and supportive. Thank you!|\n",
      "| bác sĩ Nhân            | bác sĩ Quốc và nhiều người khác đã vô cùng quan tâm và hỗ trợ. Cảm ơn!\"                                                                                                                                                                                                                                                                                   |\n",
      "|Bich Ngoc Bui           |Neu buom co chua duoc kg                                                                                                                                                                                                                                                                                                                                   |\n",
      "|Tuấn nguyễn quốc        |Bảo vệ Bệnh viện hách dịch, mất dạy!                                                                                                                                                                                                                                                                                                                       |\n",
      "|Kynghesat Quỳnh An      |bệnh viện chuẩn nhất phía Nam vn                                                                                                                                                                                                                                                                                                                           |\n",
      "|chi sang                |Benh vien rat tot va dep                                                                                                                                                                                                                                                                                                                                   |\n",
      "|dung nguyen             |rất tốt                                                                                                                                                                                                                                                                                                                                                    |\n",
      "|Long Lê Ngọc Tường    |rất hiện đại và chu đáo                                                                                                                                                                                                                                                                                                                                    |\n",
      "|Vt thảo                 |Dc                                                                                                                                                                                                                                                                                                                                                         |\n",
      "|anhquynh trinh          |tôi ở Nam Định muốn vào đây chữa bệnh xin mọi người cho hỏi có khó khăn gì không?                                                                                                                                                                                                                                                                          |\n",
      "|Ban Le                  |Ok                                                                                                                                                                                                                                                                                                                                                         |\n",
      "|Bs Chường. Huyết học    |Tôi đang sống và học tập ở đây!!!                                                                                                                                                                                                                                                                                                                          |\n",
      "|Nguyen Dai Phu sữa mẹ   |Đẹp. Hiện đại, phục vụ cũng rất tốt                                                                                                                                                                                                                                                                                                                        |\n",
      "|congtam 1987            |Good service, but fee is little high                                                                                                                                                                                                                                                                                                                       |\n",
      "|Ngoc Huy Phan           |Ok                                                                                                                                                                                                                                                                                                                                                         |\n",
      "|Phạm Thiệp              |Ở TPHCM  có thể nói đây là bệnh viện tốt nhất và giá cả cũng khá hợp lý cho người dân                                                                                                                                                                                                                                                                      |\n",
      "|Dán Tường Bảo Việt TPHCM|Nên đến, có nhiều bác sĩ giỏi                                                                                                                                                                                                                                                                                                                              |\n",
      "|Quan Nguyen N.          |Phòng ốc sạch sẽ. Phục vụ tốt. Bác sĩ giỏi.                                                                                                                                                                                                                                                                                                                |\n",
      "|Pvtho                   |Good service                                                                                                                                                                                                                                                                                                                                               |\n",
      "|Yami Rider              |good                                                                                                                                                                                                                                                                                                                                                       |\n",
      "+------------------------+-----------------------------------------------------------------------------------------------------------------------------------------------------------------------------------------------------------------------------------------------------------------------------------------------------------------------------------------------------------+\n",
      "only showing top 20 rows\n",
      "\n"
     ]
    }
   ],
   "source": [
    "non_empty_reviews_df = spark.sql(\"SELECT User, Comment_Review FROM comments WHERE Comment_Review IS NOT NULL AND Comment_Review != ''\")\n",
    "non_empty_reviews_df.show(truncate=False)"
   ]
  },
  {
   "cell_type": "markdown",
   "metadata": {},
   "source": [
    "#### Transformation / Process Data"
   ]
  },
  {
   "cell_type": "code",
   "execution_count": 19,
   "metadata": {},
   "outputs": [],
   "source": [
    "comments = comments.withColumn(\"comment_date\", to_date(col(\"comment_date\"), \"M/d/yyyy\"))"
   ]
  },
  {
   "cell_type": "code",
   "execution_count": 20,
   "metadata": {},
   "outputs": [],
   "source": [
    "comments = comments.withColumn(\"Long_Review\", when(length(col(\"Comment_Review\")) > 100, \"Yes\").otherwise(\"No\"))"
   ]
  },
  {
   "cell_type": "code",
   "execution_count": 21,
   "metadata": {},
   "outputs": [],
   "source": [
    "comments = comments.withColumn(\"comment_year\", year(col(\"comment_date\")))"
   ]
  },
  {
   "cell_type": "code",
   "execution_count": 22,
   "metadata": {},
   "outputs": [],
   "source": [
    "comments = comments.fillna({'Comment_Picture': 'No Picture'})"
   ]
  },
  {
   "cell_type": "code",
   "execution_count": 23,
   "metadata": {},
   "outputs": [],
   "source": [
    "comments = comments.filter(col(\"Comment_Like\") > 0)"
   ]
  },
  {
   "cell_type": "code",
   "execution_count": 24,
   "metadata": {},
   "outputs": [
    {
     "name": "stdout",
     "output_type": "stream",
     "text": [
      "+---+-------------------------+------------+--------------+------------+--------------------------------------------------------------------------------------------------------------------------------------------------------------------------------------------------------------------------------------------------------------------------------------------------------------------------------------------------------------------------------------------------------------------------------------------------------------------+---------------+-----------+------------+\n",
      "|_c0|User                     |comment_date|comment_Rating|Comment_Like|Comment_Review                                                                                                                                                                                                                                                                                                                                                                                                                                                      |Comment_Picture|Long_Review|comment_year|\n",
      "+---+-------------------------+------------+--------------+------------+--------------------------------------------------------------------------------------------------------------------------------------------------------------------------------------------------------------------------------------------------------------------------------------------------------------------------------------------------------------------------------------------------------------------------------------------------------------------+---------------+-----------+------------+\n",
      "|22 |Hien Tran                |2014-06-06  |5             |3           |One of the cleanest and most advanced hospitals in Ho Chi Minh City! Foreigners should come here if you need to go to a hospital. It is similar to hospitals in America from my experience as a Vietnamese American. My surgeons, Dr. Nhan, Dr. Hai, Dr. Thien, Dr. Nam, and Dr. Quoc and many others have been extremely caring and supportive. Thank you!                                                                                                         |No Picture     |Yes        |2014        |\n",
      "|148|Ngo Minh Truc            |2016-07-29  |5             |3           |Bệnh viện Đại học Y Dược TP.HCM là bệnh viện đa khoa công lập, hoạt động theo mô hình kết hợp Bệnh viện – Trường Đại học (đào tạo + thực hành + nghiên cứu y học). Hiện nay, Bệnh viện có 1.000 giường bệnh, hầu hết những thầy thuốc trực tiếp khám – chữa bệnh là các bác sĩ có kinh nghiệm giảng dạy và thực hành y khoa . Là bệnh viện có thương hiệu ở Việt Nam *****                                                                                          |no             |Yes        |2016        |\n",
      "|158|Tom Jordan               |2016-08-15  |5             |2           |Best Vietnamese hospital, hands down, bar none!                                                                                                                                                                                                                                                                                                                                                                                                                     |No Picture     |No         |2016        |\n",
      "|194|Tùng Sony                |2016-09-11  |5             |1           |Bv hiện đại                                                                                                                                                                                                                                                                                                                                                                                                                                                         |no             |No         |2016        |\n",
      "|198|Peter Do                 |2016-09-15  |5             |1           |Các Dịch vụ khám chữa bệnh rất tốt. Bác Sĩ , điều dưỡng và nhân viên ân cần, chu đáo và nhiệt tình. Lầu 14 có phần ăn cho Bệnh Nhân trong những ngày nằm viện nên người nhà thấy an tâm, hài lòng , thực đơn phong phú và đúng giờ                                                                                                                                                                                                                                  |No Picture     |Yes        |2016        |\n",
      "|200|Trung Nghĩa Nguyễn       |2016-09-17  |5             |2           |Bệnh viện hàng đầu về cơ sở vật chất và nhân lực y tế.                                                                                                                                                                                                                                                                                                                                                                                                              |No Picture     |No         |2016        |\n",
      "|246|J Ph                     |2016-12-18  |5             |3           |Tôi đi khám mấy tuần liên tiếp vào thứ 7 nên ko đông lắm.                                                                                                                                                                                                                                                                                                                                                                                                           |No Picture     |No         |2016        |\n",
      "|277|HIEU NGUYEN TRUNG        |2017-02-13  |5             |3           |Sạch. Văn minh. Hiện đại. Giá phù hợp 4*. Tổ chức quản lý tốt lắm. Chú ý số CÒ MỒI SĂP HÀNG LẤY SỐ vào sáng sớm trước cổng. Có khoảng hơn chục tay. Không ích lợi gì. Ăn bám xã hội. Căn tin sạch, tổ chức văn minh như trong căn tin trường đại học Mỹ. Order-trả tiền/ Tự lấy khay chọn thức ăn/ Tự lấy napkin, tăm, ớt, nước chấm/ Ăn xong trả khay cho khu rửa chén. Máy lạnh. Không có bán vé số chèo kéo. Khách Tây Ta gì cũng vào ăn một chỗ. Khoảng 200 ghế.|no             |Yes        |2017        |\n",
      "|285|Thanh Tâm Nguyễn         |2017-03-06  |5             |3           |Sạch sẽ, rất tốt nhưng tránh tình trạng cò bốc số... có khu vực cho người đi xe lăn... có hầm giữ xe... gần đường chính nhưng trạm xe buýt phía trước rất mất an toàn                                                                                                                                                                                                                                                                                               |no             |Yes        |2017        |\n",
      "|307|Ton Long Duy             |2017-04-17  |5             |6           |Mẹ tôi từ Quảng Ngãi vào mổ sỏi thận tại đây, mổ tổng cộng 3 lần, mổ nội soi, 1 tuần mổ 1 lần và nằm tại tầng 9, rất hài lòng về tất cả mọi thứ từ quy trình, vệ sinh, dịch vụ, khẩu phần ăn bệnh nhân, đồ ăn tại căn tin đến thái độ của nhân viên tại bệnh viện, đáng giá từng cắt một khi trả tiền. Tôi rất vui khi mẹ tôi đã mổ thành công sỏi thận, Cám ơn đội ngũ y bác sĩ bà nhân viên tại bệnh viện!                                                        |no             |Yes        |2017        |\n",
      "|315|Nguyễn Khanh             |2017-05-04  |5             |1           |Mình đi nhiều bệnh viện cả công và bệnh viện tư, đây là bệnh viện mình hài lòng nhất về chất lượng và dịch vụ. Nhà ăn sạch đẹp và thuận tiện.                                                                                                                                                                                                                                                                                                                       |no             |Yes        |2017        |\n",
      "|323|Tư Vấn DNL (mocongty.net)|2017-05-20  |5             |2           |Đã khám ở đây rồi                                                                                                                                                                                                                                                                                                                                                                                                                                                   |no             |No         |2017        |\n",
      "|337|Anthony Trinh            |2017-06-28  |5             |4           |This place literally saved my life as I was properly diagnosed with Gullian Barre Syndrome.  The doctors and nurses were great but I couldn't find anyone who spoke English which was difficult for me to understand medical terms in Vietnamese.   I stayed here for at least two weeks and went through a ton of testing.                                                                                                                                         |No Picture     |Yes        |2017        |\n",
      "|340|Sư Tổng                  |2017-07-02  |5             |1           |High hospitality. Good infrastructure. Clear atmosphere. A little bit high price.                                                                                                                                                                                                                                                                                                                                                                                   |No Picture     |No         |2017        |\n",
      "|349|An Phuc Thien            |2017-07-23  |5             |1           |Ok!                                                                                                                                                                                                                                                                                                                                                                                                                                                                 |No Picture     |No         |2017        |\n",
      "|364|Minh Minh                |2017-08-21  |5             |1           |Mình điều trị ở đây một vài lần rồi, nói chung rất hài lòng, chỉ có điều chi phí hơi cao xíu, nhưng cũng tương xứng chứ đừng rẻ mà kém chất lượng.                                                                                                                                                                                                                                                                                                                  |No Picture     |Yes        |2017        |\n",
      "|369|Khoa Phan                |2017-08-30  |5             |1           |Bv Đại học y dược rất tốt trong khám với các bác sĩ lâm sàn và cận lâm sàng chuyên môn cao.                                                                                                                                                                                                                                                                                                                                                                         |No Picture     |No         |2017        |\n",
      "|378|Phan Hoà                 |2017-09-19  |5             |1           |Nơi khám chữa bệnh uy tín, chất lượng của Miền Nam với tp.HCM                                                                                                                                                                                                                                                                                                                                                                                                       |no             |No         |2017        |\n",
      "|399|Nguyễn Thị Thương        |2017-10-24  |5             |1           |Phí khám ở khá mắc so với các bệnh viện khác ở Sài Gòn, khám bệnh khá tốt nhưng xét nghiệm máu, thuốc uống cũng khá mắc                                                                                                                                                                                                                                                                                                                                             |no             |Yes        |2017        |\n",
      "|409|bien chau                |2017-11-06  |5             |1           |bệnh viện mới xây đẹp,chất lượng phục vụ tốt nhưng dịch vụ chèo kéo khám dịch vụ chỗ các bãi giữ xe hoặt động mạnh                                                                                                                                                                                                                                                                                                                                                  |no             |Yes        |2017        |\n",
      "+---+-------------------------+------------+--------------+------------+--------------------------------------------------------------------------------------------------------------------------------------------------------------------------------------------------------------------------------------------------------------------------------------------------------------------------------------------------------------------------------------------------------------------------------------------------------------------+---------------+-----------+------------+\n",
      "only showing top 20 rows\n",
      "\n"
     ]
    }
   ],
   "source": [
    "comments.show(truncate=False)"
   ]
  },
  {
   "cell_type": "markdown",
   "metadata": {},
   "source": [
    "#### Export"
   ]
  },
  {
   "cell_type": "code",
   "execution_count": null,
   "metadata": {},
   "outputs": [],
   "source": [
    "comments_single_partition = comments.coalesce(1)"
   ]
  },
  {
   "cell_type": "code",
   "execution_count": 30,
   "metadata": {},
   "outputs": [],
   "source": [
    "comments_single_partition.write.mode(\"overwrite\").format(\"csv\").save(\"/app/data/result.csv\")"
   ]
  },
  {
   "cell_type": "code",
   "execution_count": null,
   "metadata": {},
   "outputs": [],
   "source": []
  }
 ],
 "metadata": {
  "kernelspec": {
   "display_name": "Python 3 (ipykernel)",
   "language": "python",
   "name": "python3"
  },
  "language_info": {
   "codemirror_mode": {
    "name": "ipython",
    "version": 3
   },
   "file_extension": ".py",
   "mimetype": "text/x-python",
   "name": "python",
   "nbconvert_exporter": "python",
   "pygments_lexer": "ipython3",
   "version": "3.11.2"
  }
 },
 "nbformat": 4,
 "nbformat_minor": 4
}
