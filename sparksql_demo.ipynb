{
 "cells": [
  {
   "cell_type": "code",
   "execution_count": 1,
   "metadata": {},
   "outputs": [],
   "source": [
    "from pyspark.sql import SparkSession"
   ]
  },
  {
   "cell_type": "markdown",
   "metadata": {},
   "source": [
    "## Constants"
   ]
  },
  {
   "cell_type": "code",
   "execution_count": 2,
   "metadata": {},
   "outputs": [],
   "source": [
    "data_path = \"/app/data/binhluan.csv\""
   ]
  },
  {
   "cell_type": "markdown",
   "metadata": {},
   "source": [
    "## Init spark session"
   ]
  },
  {
   "cell_type": "code",
   "execution_count": 3,
   "metadata": {},
   "outputs": [
    {
     "name": "stderr",
     "output_type": "stream",
     "text": [
      "Setting default log level to \"WARN\".\n",
      "To adjust logging level use sc.setLogLevel(newLevel). For SparkR, use setLogLevel(newLevel).\n",
      "24/08/17 17:35:49 WARN NativeCodeLoader: Unable to load native-hadoop library for your platform... using builtin-java classes where applicable\n"
     ]
    }
   ],
   "source": [
    "spark = (\n",
    "    SparkSession.builder.appName(\"PySpark Demo\")\n",
    "    .master(\"spark://spark-master:7077\")\n",
    "    .getOrCreate()\n",
    ")"
   ]
  },
  {
   "cell_type": "markdown",
   "metadata": {},
   "source": [
    "## Demo"
   ]
  },
  {
   "cell_type": "code",
   "execution_count": 8,
   "metadata": {},
   "outputs": [],
   "source": [
    "comments = spark.read.option(\"header\", \"true\").csv(data_path)"
   ]
  },
  {
   "cell_type": "code",
   "execution_count": 9,
   "metadata": {},
   "outputs": [
    {
     "name": "stderr",
     "output_type": "stream",
     "text": [
      "[Stage 3:>                                                          (0 + 1) / 1]\r"
     ]
    },
    {
     "name": "stdout",
     "output_type": "stream",
     "text": [
      "+--------------------+--------------------+------------+--------------+------------+--------------------+---------------+\n",
      "|                 _c0|                User|comment_date|comment_Rating|Comment_Like|      Comment_Review|Comment_Picture|\n",
      "+--------------------+--------------------+------------+--------------+------------+--------------------+---------------+\n",
      "|                   1|Hoa Thanh Trung (...|   7/18/2012|             5|           0|                NULL|             no|\n",
      "|                   2|    Văn Thắng Nguyễn|   11/7/2012|             5|           0|                NULL|             no|\n",
      "|                   4|      Trung Trần Mẫn|  11/20/2012|             5|           0|                NULL|             no|\n",
      "|                  19|        Trần- Nguyễn|   4/20/2014|             5|           0|                NULL|             no|\n",
      "|                  21|             Minh Le|   5/12/2014|             5|           0|                NULL|             no|\n",
      "|                  22|           Hien Tran|    6/6/2014|             5|           3|One of the cleane...|           NULL|\n",
      "|(Bản dịch tự động...|                NULL|        NULL|          NULL|        NULL|                NULL|           NULL|\n",
      "|Một trong những b...|         bác sĩ Nhân|  bác sĩ Hải|  bác sĩ Thiện|  bác sĩ Nam| bác sĩ Quốc và n...|             no|\n",
      "|                  24|         Tiger White|    6/8/2014|             5|           0|                NULL|             no|\n",
      "|                  28|       Bich Ngoc Bui|   7/21/2014|             5|           0|Neu buom co chua ...|             no|\n",
      "|                  30|        Jung Woo Han|   8/26/2014|             5|           0|                NULL|             no|\n",
      "|                  31|             Ty Tran|   11/6/2014|             5|           0|                NULL|             no|\n",
      "|                  32| Chhim Phan Sochetra|   11/9/2014|             5|           0|                NULL|             no|\n",
      "|                  34|        nguyen thang|  12/16/2014|             5|           0|                NULL|             no|\n",
      "|                  35|    Tuấn nguyễn quốc|  12/29/2014|             5|           0|Bảo vệ Bệnh viện ...|             no|\n",
      "|                  36|           Hoang Hai|    1/1/2015|             5|           0|                NULL|             no|\n",
      "|                  38|  Kynghesat Quỳnh An|   1/23/2015|             5|           0|bệnh viện chuẩn n...|             no|\n",
      "|                  40|             Potassy|    2/4/2015|             5|           0|                NULL|             no|\n",
      "|                  41|            Luc Tran|   3/13/2015|             5|           0|                NULL|             no|\n",
      "|                  42|     Quoc Duy Nguyen|   3/17/2015|             5|           0|                NULL|             no|\n",
      "+--------------------+--------------------+------------+--------------+------------+--------------------+---------------+\n",
      "only showing top 20 rows\n",
      "\n"
     ]
    },
    {
     "name": "stderr",
     "output_type": "stream",
     "text": [
      "                                                                                \r"
     ]
    }
   ],
   "source": [
    "comments.show()"
   ]
  },
  {
   "cell_type": "code",
   "execution_count": null,
   "metadata": {},
   "outputs": [],
   "source": []
  }
 ],
 "metadata": {
  "kernelspec": {
   "display_name": "Python 3 (ipykernel)",
   "language": "python",
   "name": "python3"
  },
  "language_info": {
   "codemirror_mode": {
    "name": "ipython",
    "version": 3
   },
   "file_extension": ".py",
   "mimetype": "text/x-python",
   "name": "python",
   "nbconvert_exporter": "python",
   "pygments_lexer": "ipython3",
   "version": "3.11.2"
  }
 },
 "nbformat": 4,
 "nbformat_minor": 4
}
